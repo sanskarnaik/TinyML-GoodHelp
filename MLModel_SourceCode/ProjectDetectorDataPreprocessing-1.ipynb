{
  "nbformat": 4,
  "nbformat_minor": 0,
  "metadata": {
    "colab": {
      "provenance": []
    },
    "kernelspec": {
      "name": "python3",
      "display_name": "Python 3"
    },
    "language_info": {
      "name": "python"
    }
  },
  "cells": [
    {
      "cell_type": "code",
      "source": [
        "!zip -r audio_speech.zip audio_speech/\n",
        "!zip -r audio_speech_csvs.zip audio_speech_csvs/"
      ],
      "metadata": {
        "id": "w4hb-7kwL8_a"
      },
      "execution_count": null,
      "outputs": []
    },
    {
      "cell_type": "code",
      "source": [
        "!unzip audio_speech_csvs.zip"
      ],
      "metadata": {
        "id": "1uOkhUCZDdmA"
      },
      "execution_count": null,
      "outputs": []
    },
    {
      "cell_type": "code",
      "source": [
        "!rm -rf audio_speech\n",
        "!mkdir -p audio_speech\n",
        "\n",
        "!rm -rf audio_speech_csvs\n",
        "!mkdir -p audio_speech_csvs"
      ],
      "metadata": {
        "id": "LOXaJizSE4qc"
      },
      "execution_count": 59,
      "outputs": []
    },
    {
      "cell_type": "code",
      "source": [
        "!mkdir audio_speech_raw"
      ],
      "metadata": {
        "id": "xCGqXh8hMfNB"
      },
      "execution_count": 60,
      "outputs": []
    },
    {
      "cell_type": "code",
      "source": [
        "!unzip /content/Audio_Speech_Actors_01-24.zip -d audio_speech_raw"
      ],
      "metadata": {
        "id": "6mcICEgi7pUy"
      },
      "execution_count": null,
      "outputs": []
    },
    {
      "cell_type": "code",
      "execution_count": null,
      "metadata": {
        "id": "_Pd3AMHreBQU"
      },
      "outputs": [],
      "source": [
        "!pip install ffmpeg-python        # &> shell command to hide output\n",
        "!pip install tensorflow-io \n",
        "!pip install python_speech_features \n",
        "!pip install librosa==0.8 \n",
        "print(\"Packages Installed\")"
      ]
    },
    {
      "cell_type": "code",
      "source": [
        "import tensorflow as tf\n",
        "from tensorflow.keras import Model\n",
        "from tensorflow.keras.layers import Dense, Input, MultiHeadAttention, Reshape, Dropout, GlobalAveragePooling1D, Conv1D, LayerNormalization, Normalization\n",
        "from tensorflow.keras.optimizers import Adam\n",
        "# from tensorflow.keras.callbacks.Callback.\n",
        "from tensorflow.keras import callbacks\n",
        "\n",
        "from IPython.display import HTML, Audio\n",
        "from base64 import b64decode\n",
        "import numpy as np\n",
        "from scipy.io.wavfile import read as wav_read\n",
        "import io\n",
        "import ffmpeg\n",
        "import tensorflow as tf\n",
        "import tensorflow_io as tfio\n",
        "import matplotlib.pyplot as plt\n",
        "import numpy as np\n",
        "from python_speech_features import mfcc\n",
        "from matplotlib import cm\n",
        "import pickle\n",
        "import librosa\n",
        "print(\"Packages Imported\")"
      ],
      "metadata": {
        "id": "a1RwxnvceEzH"
      },
      "execution_count": null,
      "outputs": []
    },
    {
      "cell_type": "code",
      "source": [
        "import librosa\n",
        "import tensorflow as tf\n",
        "from pathlib import Path\n",
        "\n",
        "\n",
        "max_shape = 150000\n",
        "\n",
        "Emotion = {'01': 'neutral', '02' : 'calm', '03' : 'happy', \n",
        "         '04': 'sad', '05': 'angry', '06':'fearful', \n",
        "          '07': 'disgust', '08': 'surprised'}\n",
        "\n",
        "def change_file(file_name, csv_dir):\n",
        "  only_file_name = file_name.split('/')[-1]\n",
        "  actor_id = file_name.split('/')[-2]\n",
        "  file_ids = only_file_name.split('-')\n",
        "\n",
        "  Path(f\"{csv_dir}/{actor_id}\").mkdir(parents=True, exist_ok=True)\n",
        "\n",
        "  # print(file_ids)\n",
        "  emotion = Emotion[file_ids[2]]\n",
        "  new_file_name = f'{emotion}_{only_file_name}'\n",
        "\n",
        "  data , sampling_rate = librosa.load(file_name)\n",
        "  elems_to_pad = max_shape - data.shape[0]\n",
        "  if elems_to_pad > 0:\n",
        "    data = np.pad(data, (0, elems_to_pad), 'constant', constant_values=(0,-1)).shape\n",
        "  else:\n",
        "    print('NO PADDING')\n",
        "\n",
        "  np.savetxt(f\"{csv_dir}/{actor_id}/{new_file_name}.csv\", data, delimiter=\",\")\n",
        "  return new_file_name, actor_id\n"
      ],
      "metadata": {
        "id": "xHRw8N08Ckx1"
      },
      "execution_count": 55,
      "outputs": []
    },
    {
      "cell_type": "code",
      "source": [
        "import glob\n",
        "import subprocess\n",
        "\n",
        "audio_files = glob.glob(\"audio_speech_raw/*/*.wav\")\n",
        "\n",
        "for file_path in audio_files:\n",
        "  new_file_name, actor_id = change_file(file_path, 'audio_speech_csvs')\n",
        "  Path(f\"audio_speech/{actor_id}\").mkdir(parents=True, exist_ok=True)\n",
        "  # print(new_file_name)\n",
        "  print(f\"{file_path}\", f\"audio_speech/{actor_id}/{new_file_name}\")\n",
        "  subprocess.run([\"cp\", f\"{file_path}\", f\"audio_speech/{actor_id}/{new_file_name}\"])\n",
        "  # break"
      ],
      "metadata": {
        "id": "9GLzho4PD6A3"
      },
      "execution_count": null,
      "outputs": []
    },
    {
      "cell_type": "code",
      "source": [],
      "metadata": {
        "id": "1rPKL8y_DMj_"
      },
      "execution_count": null,
      "outputs": []
    }
  ]
}