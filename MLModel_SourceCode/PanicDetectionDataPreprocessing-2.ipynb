{
 "cells": [
  {
   "cell_type": "code",
   "execution_count": null,
   "id": "f2bd1c67",
   "metadata": {},
   "outputs": [],
   "source": [
    "import os\n",
    "import glob\n",
    "import subprocess\n",
    "from pathlib import Path"
   ]
  },
  {
   "cell_type": "code",
   "execution_count": null,
   "id": "09c2eeca",
   "metadata": {},
   "outputs": [],
   "source": [
    "folder_type = 'audio_songs'\n",
    "training_folder = f'/Users/neeteshtiwari/Documents/EE 595/Project/{folder_type}_training'\n",
    "test_folder = f'/Users/neeteshtiwari/Documents/EE 595/Project/{folder_type}_test'\n",
    "Path(f\"{training_folder}\").mkdir(parents=True, exist_ok=True)\n",
    "Path(f\"{test_folder}\").mkdir(parents=True, exist_ok=True)\n",
    "\n",
    "audio_files = glob.glob(f\"/Users/neeteshtiwari/Documents/EE 595/Project/{folder_type}/*/*.wav\")\n",
    "base_path = \"/Users/neeteshtiwari/Documents/EE 595/Project\"\n",
    "\n",
    "\n",
    "training = ['Actor_01','Actor_02','Actor_03','Actor_04','Actor_05','Actor_06',\n",
    "            'Actor_07','Actor_08','Actor_09','Actor_10','Actor_11','Actor_12',\n",
    "            'Actor_13','Actor_14','Actor_15','Actor_16', 'Actor_17','Actor_18',\n",
    "           ]\n",
    "test = [    \n",
    "    'Actor_19','Actor_20', 'Actor_21','Actor_22','Actor_23','Actor_24',\n",
    "]\n",
    "\n",
    "for file_path in audio_files:\n",
    "    actor_id = file_path.split('/')[-2]\n",
    "    emotion = file_path.split('/')[-1].split('_')[0]\n",
    "    only_file = file_path.split('/')[-1]\n",
    "    if emotion == 'fearful':\n",
    "        subdir = 'fear'\n",
    "    else:\n",
    "        subdir = 'all'\n",
    "    \n",
    "    if actor_id in training:\n",
    "        save_folder = training_folder\n",
    "    elif actor_id in test:\n",
    "        save_folder = test_folder\n",
    "    \n",
    "    save_folder = f\"{save_folder}/{subdir}\"\n",
    "    Path(f\"{save_folder}\").mkdir(parents=True, exist_ok=True)\n",
    "    print(f\"{file_path}\", f\"{save_folder}/{actor_id}_{only_file}\")\n",
    "    subprocess.run([\"cp\", f\"{file_path}\", f\"{save_folder}/{actor_id}_{only_file}\"])\n",
    "    # break"
   ]
  }
 ],
 "metadata": {
  "kernelspec": {
   "display_name": "Python 3 (ipykernel)",
   "language": "python",
   "name": "python3"
  },
  "language_info": {
   "codemirror_mode": {
    "name": "ipython",
    "version": 3
   },
   "file_extension": ".py",
   "mimetype": "text/x-python",
   "name": "python",
   "nbconvert_exporter": "python",
   "pygments_lexer": "ipython3",
   "version": "3.10.8"
  }
 },
 "nbformat": 4,
 "nbformat_minor": 5
}
